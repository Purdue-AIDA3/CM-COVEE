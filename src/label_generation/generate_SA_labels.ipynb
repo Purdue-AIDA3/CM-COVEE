{
 "cells": [
  {
   "cell_type": "markdown",
   "metadata": {},
   "source": [
    "## GENERATE ERRORS CSV"
   ]
  },
  {
   "cell_type": "code",
   "execution_count": 1,
   "metadata": {},
   "outputs": [],
   "source": [
    "import glob\n",
    "import os\n",
    "import json\n",
    "import collections\n",
    "\n",
    "# import seaborn as sns\n",
    "import sklearn\n",
    "import pandas as pd\n",
    "import numpy as np\n",
    "import matplotlib.pyplot as plt\n",
    "%matplotlib inline\n",
    "\n",
    "from sklearn.mixture import GaussianMixture\n",
    "from sklearn.model_selection import GridSearchCV\n",
    "from scipy import linalg\n",
    "from matplotlib.patches import Ellipse\n",
    "from sklearn.cluster import KMeans\n",
    "from sklearn.preprocessing import StandardScaler"
   ]
  },
  {
   "cell_type": "code",
   "execution_count": null,
   "metadata": {},
   "outputs": [],
   "source": [
    "%cd ./position_angle_error_details                           # cd to this folder"
   ]
  },
  {
   "cell_type": "markdown",
   "metadata": {},
   "source": [
    "## SAVE errors_dataframe.csv WHICH WILL BE USED TO CREATE THE SA LABELS"
   ]
  },
  {
   "cell_type": "markdown",
   "metadata": {},
   "source": [
    "This reads from all the json files that were created using \"errors.py\" (stored in position angle error details) and compiles the necessary information into a csv file for further processing"
   ]
  },
  {
   "cell_type": "code",
   "execution_count": 11,
   "metadata": {},
   "outputs": [
    {
     "name": "stdout",
     "output_type": "stream",
     "text": [
      "./1566954358/Task_1_5_5_secondary.json\n",
      "./1566954358/Task_1_5_1_secondary.json\n",
      "./1566954358/Task_1_5_2.json\n",
      "./1566954358/Task_1_5_4_secondary.json\n",
      "./1566954358/Task_1_5_7.json\n",
      "./1566954358/Task_1_5_3_secondary.json\n",
      "./9115601756/Task_1_5_9_secondary.json\n",
      "./9115601756/Task_1_5_7.json\n",
      "./7799738638/Task_1_5_8.json\n",
      "./7799738638/Task_1_5_4_secondary.json\n",
      "./7799738638/Task_1_5_9.json\n",
      "./7799738638/Task_1_5_6.json\n",
      "./5843924292/Task_1_5_8.json\n",
      "./5843924292/Task_1_5_9_secondary.json\n",
      "./5843924292/Task_1_5_6_secondary.json\n",
      "./5843924292/Task_1_5_7_secondary.json\n",
      "./7538467423/Task_1_5_8_secondary.json\n",
      "./4741106167/Task_1_5_8.json\n",
      "./4741106167/Task_1_5_8.json\n",
      "./4741106167/Task_1_3_6.json\n",
      "./4741106167/Task_1_3_1.json\n",
      "./4741106167/Task_1_1_8.json\n",
      "./4741106167/Task_1_5_1_secondary.json\n",
      "./4741106167/Task_1_5_1_secondary.json\n",
      "./4741106167/Task_1_5_7_secondary.json\n",
      "./4741106167/Task_1_1_6.json\n",
      "./4741106167/Task_1_3_10.json\n",
      "./4741106167/Task_1_3_2_secondary.json\n",
      "./4741106167/Task_1_3_5.json\n",
      "./4741106167/Task_1_1_1.json\n",
      "./4741106167/Task_1_5_9.json\n",
      "./4741106167/Task_1_5_9.json\n",
      "./4741106167/Task_1_3_8.json\n",
      "./4741106167/Task_1_1_3.json\n",
      "./4741106167/Task_1_5_5.json\n",
      "./4741106167/Task_1_5_2_secondary.json\n",
      "./4741106167/Task_1_3_3.json\n",
      "./4741106167/Task_1_5_10_secondary.json\n",
      "./4741106167/Task_1_3_4.json\n",
      "./2325724317/Task_1_5_9_secondary.json\n",
      "./2325724317/Task_1_5_2.json\n",
      "./1788669402/Task_1_5_9_secondary.json\n",
      "./1788669402/Task_1_5_5_secondary.json\n",
      "./1788669402/Task_1_5_4.json\n",
      "./1788669402/Task_1_5_2_secondary.json\n",
      "./3437429070/Task_1_5_8.json\n",
      "./3437429070/Task_1_5_1_secondary.json\n",
      "./3437429070/Task_1_5_7_secondary.json\n",
      "./3437429070/Task_1_3_7_secondary.json\n",
      "./3437429070/Task_1_3_7_secondary.json\n",
      "./3437429070/Task_1_3_7_secondary.json\n",
      "./3437429070/Task_1_5_3_secondary.json\n",
      "./1691200944/Task_1_5_8.json\n",
      "./1691200944/Task_1_5_7_secondary.json\n",
      "./1691200944/Task_1_5_3.json\n",
      "./1691200944/Task_1_5_2.json\n",
      "./1691200944/Task_1_5_6.json\n",
      "./1691200944/Task_1_5_1.json\n",
      "./1691200944/Task_1_5_1.json\n",
      "./1691200944/Task_1_5_10_secondary.json\n",
      "./1691200944/Task_1_5_10_secondary.json\n",
      "./1008719828/Task_1_5_9_secondary.json\n",
      "./1008719828/Task_1_5_9_secondary.json\n",
      "./1008719828/Task_1_5_5_secondary.json\n",
      "./1008719828/Task_1_5_4.json\n",
      "./1008719828/Task_1_5_2.json\n",
      "./1008719828/Task_1_5_6.json\n",
      "./1008719828/Task_1_5_10_secondary.json\n",
      "./1008719828/Task_1_5_8_secondary.json\n",
      "./1008719828/Task_1_5_3_secondary.json\n",
      "./4795940856/Task_1_5_1_secondary.json\n",
      "./2058939492/Task_1_5_5_secondary.json\n",
      "./2058939492/Task_1_5_7_secondary.json\n",
      "./2058939492/Task_1_5_3.json\n",
      "./2058939492/Task_1_5_4_secondary.json\n",
      "./2058939492/Task_1_5_9.json\n",
      "./2058939492/Task_1_5_6.json\n",
      "./2058939492/Task_1_5_1.json\n",
      "./3485568572/Task_1_5_1_secondary.json\n",
      "./2651031016/Task_1_5_1_secondary.json\n",
      "./2651031016/Task_1_5_5.json\n",
      "./2651031016/Task_1_5_10.json\n",
      "./8708506757/Task_1_5_6_secondary.json\n",
      "./8708506757/Task_1_5_7_secondary.json\n",
      "./8708506757/Task_1_5_2.json\n",
      "./8708506757/Task_1_5_3_secondary.json\n",
      "./4830336371/Task_1_5_9_secondary.json\n",
      "./4830336371/Task_1_5_9_secondary.json\n",
      "./4830336371/Task_1_5_5_secondary.json\n",
      "./4830336371/Task_1_5_4.json\n",
      "./4830336371/Task_1_5_7_secondary.json\n",
      "./4830336371/Task_1_5_7_secondary.json\n",
      "./4830336371/Task_1_5_6.json\n",
      "./4830336371/Task_1_5_6.json\n",
      "./4830336371/Task_1_5_1.json\n",
      "./4830336371/Task_1_5_1.json\n",
      "./4830336371/Task_1_5_10_secondary.json\n",
      "./4830336371/Task_1_5_10_secondary.json\n",
      "./4830336371/Task_1_5_3_secondary.json\n",
      "./4830336371/Task_1_5_3_secondary.json\n",
      "./2999828357/Task_1_5_6_secondary.json\n",
      "./2999828357/Task_1_5_1_secondary.json\n",
      "./2999828357/Task_1_5_7_secondary.json\n",
      "./2999828357/Task_1_5_2.json\n",
      "./2999828357/Task_1_5_8_secondary.json\n",
      "./2999828357/Task_1_5_10.json\n",
      "./8346835623/Task_1_5_1.json\n",
      "./9793764153/Task_1_5_9_secondary.json\n",
      "./9793764153/Task_1_5_6_secondary.json\n",
      "./9793764153/Task_1_5_5_secondary.json\n",
      "./9793764153/Task_1_5_7_secondary.json\n",
      "./9793764153/Task_1_5_2_secondary.json\n",
      "./4217429651/Task_1_5_1_secondary.json\n",
      "./4217429651/Task_1_5_2.json\n",
      "./4217429651/Task_1_5_4_secondary.json\n",
      "./4217429651/Task_1_5_5.json\n",
      "./4217429651/Task_1_5_10.json\n",
      "./7786511601/Task_1_3_6.json\n",
      "./7786511601/Task_1_5_9_secondary.json\n",
      "./7786511601/Task_1_5_5_secondary.json\n",
      "./7786511601/Task_1_5_4_secondary.json\n",
      "./7786511601/Task_1_5_8_secondary.json\n",
      "./5012461204/Task_1_5_9_secondary.json\n",
      "./5012461204/Task_1_5_6_secondary.json\n",
      "./5012461204/Task_1_5_4_secondary.json\n",
      "./5012461204/Task_1_5_5.json\n",
      "./5012461204/Task_1_5_5.json\n",
      "./5012461204/Task_1_5_2_secondary.json\n",
      "./5012461204/Task_1_5_1.json\n",
      "./5012461204/Task_1_5_8_secondary.json\n",
      "./5012461204/Task_1_5_3_secondary.json\n"
     ]
    }
   ],
   "source": [
    "max_missed_aircrafts = 0\n",
    "d = {}\n",
    "d[\"name\"] = []\n",
    "d[\"position_error\"] = []\n",
    "d[\"angle_error\"] = []\n",
    "d[\"normalized_position_error\"] = []\n",
    "d[\"normalized_angle_error\"] = []\n",
    "d[\"num_aircrafts_for_normalization\"] = []\n",
    "d[\"number_of_missed_aircrafts\"] = []\n",
    "d[\"intersection_distances\"] = []\n",
    "d[\"distances_from_red_aircraft\"] = []\n",
    "d[\"num_aircrafts\"] = []\n",
    "\n",
    "for folder in glob.glob(\"./*\"):\n",
    "    for file in glob.glob(os.path.join(folder, \"*\")):\n",
    "        with open(file, \"r\") as f:\n",
    "            data = json.load(f)\n",
    "            num_aircrafts = int(file[20]) + 1\n",
    "            position_error = data[\"sum_of_l2\"]\n",
    "            angle_error = data[\"abs_sum_of_angles_diff\"]\n",
    "            num_missed_aircraft = data[\"number_of_missed_aircrafts\"]\n",
    "            intersection_distances = data[\"intersection_distances\"]\n",
    "            distances = data[\"distances_from_red_aircraft\"]\n",
    "            max_missed_aircrafts = max(max_missed_aircrafts, num_missed_aircraft)\n",
    "            num_guessed_aircrafts = num_aircrafts - num_missed_aircraft\n",
    "            if len(intersection_distances) == 0:\n",
    "                d[\"name\"].append(file)\n",
    "                d[\"position_error\"].append(position_error)\n",
    "                d[\"angle_error\"].append(angle_error)\n",
    "                d[\"num_aircrafts\"].append(num_aircrafts)\n",
    "                d[\"number_of_missed_aircrafts\"].append(num_missed_aircraft)\n",
    "                d[\"num_aircrafts_for_normalization\"].append(num_guessed_aircrafts)\n",
    "                d[\"normalized_position_error\"].append(position_error / num_guessed_aircrafts)\n",
    "                d[\"normalized_angle_error\"].append(angle_error / num_guessed_aircrafts)\n",
    "                d[\"intersection_distances\"].append(0)\n",
    "                d[\"distances_from_red_aircraft\"].append(0)\n",
    "            else:\n",
    "                for i in range(len(intersection_distances)):\n",
    "                    if intersection_distances[i] == -float(\"inf\") or intersection_distances[i] == float(\"inf\"):\n",
    "                        intersection_distances[i] = 1.0\n",
    "                        distances[i] = 1.0\n",
    "                    print(file)\n",
    "                    d[\"name\"].append(file)\n",
    "                    d[\"position_error\"].append(position_error)\n",
    "                    d[\"angle_error\"].append(angle_error)\n",
    "                    d[\"num_aircrafts\"].append(num_aircrafts)\n",
    "                    d[\"number_of_missed_aircrafts\"].append(num_missed_aircraft)\n",
    "                    d[\"num_aircrafts_for_normalization\"].append(num_guessed_aircrafts)\n",
    "                    d[\"normalized_position_error\"].append(position_error / num_guessed_aircrafts)\n",
    "                    d[\"normalized_angle_error\"].append(angle_error / num_guessed_aircrafts)\n",
    "                    d[\"intersection_distances\"].append(intersection_distances[i])\n",
    "                    d[\"distances_from_red_aircraft\"].append(distances[i])\n"
   ]
  },
  {
   "cell_type": "code",
   "execution_count": 2,
   "metadata": {},
   "outputs": [],
   "source": [
    "print(len(d[\"name\"]))\n",
    "print(len(d[\"position_error\"]))\n",
    "print(len(d[\"angle_error\"]))\n",
    "print(len(d[\"normalized_position_error\"]))\n",
    "print(len(d[\"normalized_angle_error\"]))\n",
    "print(len(d[\"num_aircrafts_for_normalization\"]))\n",
    "print(len(d[\"number_of_missed_aircrafts\"]))\n",
    "print(len(d[\"num_aircrafts\"]))\n",
    "print(len(d[\"intersection_distances\"]))\n",
    "print(len(d[\"distances_from_red_aircraft\"]))"
   ]
  },
  {
   "cell_type": "code",
   "execution_count": 5,
   "metadata": {},
   "outputs": [
    {
     "data": {
      "text/plain": [
       "Counter({0: 577, 1: 102, 2: 13, 3: 1})"
      ]
     },
     "execution_count": 5,
     "metadata": {},
     "output_type": "execute_result"
    }
   ],
   "source": [
    "c = collections.Counter(d[\"number_of_missed_aircrafts\"])\n",
    "c"
   ]
  },
  {
   "cell_type": "code",
   "execution_count": 13,
   "metadata": {},
   "outputs": [],
   "source": [
    "df = pd.DataFrame.from_dict(d)\n",
    "df.to_csv(\"../errors_dataframe.csv\", index=False)"
   ]
  },
  {
   "cell_type": "markdown",
   "metadata": {},
   "source": [
    "## FULL SA LABEL GENERATION PIPELINE"
   ]
  },
  {
   "cell_type": "markdown",
   "metadata": {},
   "source": [
    "GENERATE LABELS"
   ]
  },
  {
   "cell_type": "code",
   "execution_count": 1,
   "metadata": {},
   "outputs": [],
   "source": [
    "import glob\n",
    "import os\n",
    "import json\n",
    "import collections\n",
    "\n",
    "import seaborn as sns\n",
    "import sklearn\n",
    "import pandas as pd\n",
    "import numpy as np\n",
    "import matplotlib.pyplot as plt\n",
    "%matplotlib inline\n",
    "\n",
    "from sklearn.mixture import GaussianMixture\n",
    "from sklearn.model_selection import GridSearchCV\n",
    "from scipy import linalg\n",
    "from matplotlib.patches import Ellipse\n",
    "from sklearn.cluster import KMeans\n",
    "from sklearn.preprocessing import StandardScaler"
   ]
  },
  {
   "cell_type": "code",
   "execution_count": 2,
   "metadata": {},
   "outputs": [],
   "source": [
    "pd.set_option('display.max_rows', None)\n",
    "pd.set_option('display.max_columns', None)\n",
    "pd.set_option('display.width', None)"
   ]
  },
  {
   "cell_type": "markdown",
   "metadata": {},
   "source": [
    "Read the csv file into a dataframe df_not_missed"
   ]
  },
  {
   "cell_type": "code",
   "execution_count": 3,
   "metadata": {},
   "outputs": [
    {
     "data": {
      "text/plain": [
       "(708, 10)"
      ]
     },
     "execution_count": 3,
     "metadata": {},
     "output_type": "execute_result"
    }
   ],
   "source": [
    "df_not_missed = pd.read_csv(\"errors_dataframe.csv\")\n",
    "df_not_missed.shape"
   ]
  },
  {
   "cell_type": "markdown",
   "metadata": {},
   "source": [
    "df_missed is a dataframe that contains only trails where the subject missed an aircraft"
   ]
  },
  {
   "cell_type": "code",
   "execution_count": 4,
   "metadata": {},
   "outputs": [
    {
     "name": "stdout",
     "output_type": "stream",
     "text": [
      "(131, 10)\n",
      "(708, 10)\n"
     ]
    }
   ],
   "source": [
    "df_missed = df_not_missed[df_not_missed[\"number_of_missed_aircrafts\"] != 0]\n",
    "print(df_missed.shape)\n",
    "print(df_not_missed.shape)"
   ]
  },
  {
   "cell_type": "code",
   "execution_count": 5,
   "metadata": {},
   "outputs": [
    {
     "name": "stdout",
     "output_type": "stream",
     "text": [
      "(708, 2)\n",
      "(131, 2)\n"
     ]
    }
   ],
   "source": [
    "X_not_missed = df_not_missed[['normalized_position_error', 'normalized_angle_error']].to_numpy()\n",
    "X_missed = df_missed[['distances_from_red_aircraft', 'intersection_distances']].to_numpy()\n",
    "print(X_not_missed.shape)\n",
    "print(X_missed.shape)"
   ]
  },
  {
   "cell_type": "markdown",
   "metadata": {},
   "source": [
    "Plot the normalized position and angle errors of every trial by every subject in Task 1 (normalized by the number of aircrafts guessed). The penalty for missing aircrafts will be applied later."
   ]
  },
  {
   "cell_type": "code",
   "execution_count": 6,
   "metadata": {},
   "outputs": [
    {
     "data": {
      "text/plain": [
       "[]"
      ]
     },
     "execution_count": 6,
     "metadata": {},
     "output_type": "execute_result"
    },
    {
     "data": {
      "image/png": "[encoded data removed]",
      "text/plain": [
       "<Figure size 640x480 with 1 Axes>"
      ]
     },
     "metadata": {},
     "output_type": "display_data"
    }
   ],
   "source": [
    "plt.scatter(X_not_missed[:, 0], X_not_missed[:, 1], s=1)\n",
    "plt.xlabel(\"Normalized position errors\")\n",
    "plt.ylabel(\"Normalized Angle errors\")\n",
    "plt.plot()"
   ]
  },
  {
   "cell_type": "markdown",
   "metadata": {},
   "source": [
    "Plot the intersection distance and distance from red aircraft only for trials where the subject completely missed guessing one or more aircrafts. Note that if a subject missed more than 1 aircraft (2 aircrafts for example), it is represented by 2 points on the plot."
   ]
  },
  {
   "cell_type": "code",
   "execution_count": null,
   "metadata": {},
   "outputs": [
    {
     "data": {
      "text/plain": [
       "[]"
      ]
     },
     "execution_count": 7,
     "metadata": {},
     "output_type": "execute_result"
    },
    {
     "data": {
      "image/png": "[encoded data removed]",
      "text/plain": [
       "<Figure size 640x480 with 1 Axes>"
      ]
     },
     "metadata": {},
     "output_type": "display_data"
    }
   ],
   "source": [
    "plt.scatter(X_missed[:, 0], X_missed[:, 1], s = 0.8)\n",
    "plt.xlabel(\"distances_from_red_aircraft\")\n",
    "plt.ylabel(\"intersection_distances\")\n",
    "plt.plot()"
   ]
  },
  {
   "cell_type": "markdown",
   "metadata": {},
   "source": [
    "Fit a GMM to the normalized data. All trials will be used here since subjects would have guessed position and heading for a subset of aircrafts in the trial. Note that this particular parameter set performed the best for 3 components (Low, medium, and high SA level)."
   ]
  },
  {
   "cell_type": "code",
   "execution_count": 8,
   "metadata": {},
   "outputs": [],
   "source": [
    "gm = GaussianMixture(n_components=3, covariance_type=\"full\", init_params=\"k-means++\").fit(X_not_missed)\n",
    "Y_not_missed = gm.predict(X_not_missed)"
   ]
  },
  {
   "cell_type": "code",
   "execution_count": 9,
   "metadata": {},
   "outputs": [],
   "source": [
    "color_dict = {2: \"green\", 1: \"black\", 0: \"red\"}"
   ]
  },
  {
   "cell_type": "code",
   "execution_count": 10,
   "metadata": {},
   "outputs": [
    {
     "data": {
      "text/plain": [
       "<matplotlib.collections.PathCollection at 0x7f6cd50b1160>"
      ]
     },
     "execution_count": 10,
     "metadata": {},
     "output_type": "execute_result"
    },
    {
     "data": {
      "image/png": "[encoded data removed]",
      "text/plain": [
       "<Figure size 640x480 with 1 Axes>"
      ]
     },
     "metadata": {},
     "output_type": "display_data"
    }
   ],
   "source": [
    "plt.scatter(X_not_missed[:,0], X_not_missed[:, 1], c=[color_dict[label] for label in Y_not_missed], s = 0.8)"
   ]
  },
  {
   "cell_type": "code",
   "execution_count": 11,
   "metadata": {},
   "outputs": [
    {
     "data": {
      "text/plain": [
       "{0: 398, 1: 242, 2: 68}"
      ]
     },
     "execution_count": 11,
     "metadata": {},
     "output_type": "execute_result"
    }
   ],
   "source": [
    "unique, counts = np.unique(Y_not_missed, return_counts=True)\n",
    "dict(zip(unique, counts))"
   ]
  },
  {
   "cell_type": "markdown",
   "metadata": {},
   "source": [
    "The generated labels are not usually in the order we need it in. The following few cells handle that"
   ]
  },
  {
   "cell_type": "code",
   "execution_count": 12,
   "metadata": {},
   "outputs": [
    {
     "data": {
      "text/plain": [
       "array([0, 0, 0, 1, 1, 0, 1, 0, 0, 1, 1, 0, 1, 1, 0, 0, 0, 0, 2, 0, 1, 0,\n",
       "       0, 0, 0, 1, 1, 1, 0, 0, 0, 0, 1, 1, 0, 0, 1, 0, 0, 1, 0, 0, 0, 0,\n",
       "       1, 0, 1, 0, 0, 0, 1, 1, 0, 0, 0, 0, 0, 0, 0, 1, 1, 0, 1, 0, 1, 0,\n",
       "       0, 0, 2, 0, 1, 1, 0, 1, 1, 0, 0, 0, 1, 1, 0, 1, 0, 1, 0, 1, 0, 1,\n",
       "       0, 0, 1, 0, 0, 0, 0, 1, 0, 0, 0, 0, 0, 0, 2, 0, 0, 0, 1, 0, 0, 0,\n",
       "       0, 0, 0, 0, 0, 0, 0, 0, 1, 1, 0, 0, 0, 0, 1, 0, 0, 0, 0, 1, 0, 0,\n",
       "       0, 0, 0, 0, 0, 0, 0, 1, 1, 1, 1, 0, 0, 0, 0, 0, 1, 0, 0, 0, 1, 1,\n",
       "       1, 0, 0, 0, 0, 0, 0, 0, 0, 0, 1, 0, 1, 1, 0, 0, 0, 1, 1, 0, 0, 1,\n",
       "       2, 2, 2, 2, 2, 1, 1, 2, 1, 2, 2, 2, 2, 2, 2, 2, 2, 2, 2, 2, 1, 2,\n",
       "       1, 2, 2, 2, 2, 1, 2, 1, 1, 2, 2, 2, 2, 2, 2, 2, 2, 2, 2, 2, 2, 2,\n",
       "       2, 2, 2, 2, 2, 2, 2, 2, 2, 2, 2, 2, 2, 1, 0, 1, 1, 0, 0, 1, 0, 1,\n",
       "       0, 1, 0, 2, 0, 1, 1, 1, 0, 0, 0, 0, 0, 1, 1, 0, 0, 0, 2, 0, 2, 0,\n",
       "       2, 0, 0, 1, 1, 2, 2, 1, 2, 1, 1, 0, 1, 0, 1, 0, 1, 0, 2, 1, 1, 0,\n",
       "       1, 0, 1, 1, 1, 1, 0, 0, 0, 0, 0, 0, 0, 0, 1, 0, 0, 0, 0, 1, 1, 1,\n",
       "       0, 0, 1, 0, 0, 1, 1, 0, 1, 0, 1, 0, 0, 1, 1, 0, 0, 0, 1, 0, 0, 0,\n",
       "       0, 0, 0, 0, 0, 1, 0, 1, 1, 0, 0, 0, 0, 0, 0, 0, 0, 0, 0, 0, 0, 0,\n",
       "       0, 0, 0, 0, 1, 0, 0, 1, 1, 0, 0, 1, 1, 1, 1, 0, 0, 1, 0, 1, 0, 0,\n",
       "       0, 0, 0, 1, 0, 1, 1, 0, 0, 0, 0, 1, 1, 0, 0, 0, 1, 1, 0, 0, 0, 0,\n",
       "       0, 1, 0, 0, 0, 0, 0, 0, 0, 0, 1, 1, 1, 0, 0, 0, 0, 1, 1, 1, 0, 1,\n",
       "       1, 0, 1, 1, 0, 1, 1, 0, 0, 1, 0, 0, 1, 0, 1, 0, 0, 0, 0, 1, 0, 0,\n",
       "       0, 0, 0, 0, 0, 0, 0, 0, 1, 0, 0, 0, 1, 0, 0, 0, 0, 0, 1, 0, 0, 0,\n",
       "       0, 2, 1, 1, 1, 0, 1, 0, 0, 0, 0, 1, 0, 1, 1, 0, 1, 0, 0, 0, 1, 0,\n",
       "       0, 0, 0, 0, 0, 1, 0, 0, 0, 0, 1, 1, 1, 1, 0, 0, 0, 0, 0, 0, 0, 0,\n",
       "       0, 0, 0, 1, 0, 1, 1, 0, 1, 0, 0, 0, 0, 0, 0, 0, 0, 0, 0, 1, 1, 0,\n",
       "       0, 0, 0, 0, 0, 0, 0, 0, 2, 1, 1, 1, 0, 1, 1, 1, 1, 1, 2, 1, 2, 0,\n",
       "       1, 1, 2, 0, 0, 0, 0, 1, 1, 0, 0, 0, 0, 0, 0, 1, 0, 1, 1, 1, 0, 1,\n",
       "       1, 0, 1, 0, 0, 1, 0, 1, 0, 2, 1, 2, 1, 1, 1, 1, 1, 1, 0, 0, 1, 1,\n",
       "       1, 1, 1, 1, 0, 1, 1, 0, 0, 1, 0, 1, 1, 1, 0, 0, 0, 1, 0, 0, 1, 0,\n",
       "       1, 1, 0, 1, 1, 0, 0, 0, 0, 1, 1, 0, 1, 1, 1, 1, 0, 1, 0, 1, 1, 0,\n",
       "       1, 1, 0, 0, 0, 1, 1, 1, 0, 0, 0, 0, 1, 0, 0, 1, 0, 0, 0, 0, 1, 1,\n",
       "       0, 1, 1, 0, 2, 0, 1, 0, 0, 0, 1, 0, 0, 0, 0, 1, 0, 0, 0, 0, 0, 1,\n",
       "       0, 0, 1, 1, 0, 1, 0, 0, 1, 0, 0, 1, 0, 1, 0, 0, 1, 1, 0, 1, 1, 1,\n",
       "       0, 0, 1, 0])"
      ]
     },
     "execution_count": 12,
     "metadata": {},
     "output_type": "execute_result"
    }
   ],
   "source": [
    "unique, counts = np.unique(Y_not_missed, return_counts=True)\n",
    "Y_not_missed"
   ]
  },
  {
   "cell_type": "code",
   "execution_count": 13,
   "metadata": {},
   "outputs": [
    {
     "data": {
      "text/plain": [
       "{0: 398, 1: 242, 2: 68}"
      ]
     },
     "execution_count": 13,
     "metadata": {},
     "output_type": "execute_result"
    }
   ],
   "source": [
    "dict(zip(unique, counts))"
   ]
  },
  {
   "cell_type": "code",
   "execution_count": 14,
   "metadata": {},
   "outputs": [
    {
     "data": {
      "text/plain": [
       "{0: 2, 1: 1, 2: 0}"
      ]
     },
     "execution_count": 14,
     "metadata": {},
     "output_type": "execute_result"
    }
   ],
   "source": [
    "d = {}\n",
    "d[0] = 2\n",
    "d[1] = 1\n",
    "d[2] = 0\n",
    "d"
   ]
  },
  {
   "cell_type": "code",
   "execution_count": 15,
   "metadata": {},
   "outputs": [],
   "source": [
    "Y = np.zeros(Y_not_missed.shape, dtype=np.int64)"
   ]
  },
  {
   "cell_type": "code",
   "execution_count": 16,
   "metadata": {},
   "outputs": [],
   "source": [
    "for i in range(len(Y)):\n",
    "    Y[i] = d[Y_not_missed[i]]"
   ]
  },
  {
   "cell_type": "code",
   "execution_count": 17,
   "metadata": {},
   "outputs": [
    {
     "data": {
      "text/plain": [
       "array([2, 2, 2, 1, 1, 2, 1, 2, 2, 1, 1, 2, 1, 1, 2, 2, 2, 2, 0, 2, 1, 2,\n",
       "       2, 2, 2, 1, 1, 1, 2, 2, 2, 2, 1, 1, 2, 2, 1, 2, 2, 1, 2, 2, 2, 2,\n",
       "       1, 2, 1, 2, 2, 2, 1, 1, 2, 2, 2, 2, 2, 2, 2, 1, 1, 2, 1, 2, 1, 2,\n",
       "       2, 2, 0, 2, 1, 1, 2, 1, 1, 2, 2, 2, 1, 1, 2, 1, 2, 1, 2, 1, 2, 1,\n",
       "       2, 2, 1, 2, 2, 2, 2, 1, 2, 2, 2, 2, 2, 2, 0, 2, 2, 2, 1, 2, 2, 2,\n",
       "       2, 2, 2, 2, 2, 2, 2, 2, 1, 1, 2, 2, 2, 2, 1, 2, 2, 2, 2, 1, 2, 2,\n",
       "       2, 2, 2, 2, 2, 2, 2, 1, 1, 1, 1, 2, 2, 2, 2, 2, 1, 2, 2, 2, 1, 1,\n",
       "       1, 2, 2, 2, 2, 2, 2, 2, 2, 2, 1, 2, 1, 1, 2, 2, 2, 1, 1, 2, 2, 1,\n",
       "       0, 0, 0, 0, 0, 1, 1, 0, 1, 0, 0, 0, 0, 0, 0, 0, 0, 0, 0, 0, 1, 0,\n",
       "       1, 0, 0, 0, 0, 1, 0, 1, 1, 0, 0, 0, 0, 0, 0, 0, 0, 0, 0, 0, 0, 0,\n",
       "       0, 0, 0, 0, 0, 0, 0, 0, 0, 0, 0, 0, 0, 1, 2, 1, 1, 2, 2, 1, 2, 1,\n",
       "       2, 1, 2, 0, 2, 1, 1, 1, 2, 2, 2, 2, 2, 1, 1, 2, 2, 2, 0, 2, 0, 2,\n",
       "       0, 2, 2, 1, 1, 0, 0, 1, 0, 1, 1, 2, 1, 2, 1, 2, 1, 2, 0, 1, 1, 2,\n",
       "       1, 2, 1, 1, 1, 1, 2, 2, 2, 2, 2, 2, 2, 2, 1, 2, 2, 2, 2, 1, 1, 1,\n",
       "       2, 2, 1, 2, 2, 1, 1, 2, 1, 2, 1, 2, 2, 1, 1, 2, 2, 2, 1, 2, 2, 2,\n",
       "       2, 2, 2, 2, 2, 1, 2, 1, 1, 2, 2, 2, 2, 2, 2, 2, 2, 2, 2, 2, 2, 2,\n",
       "       2, 2, 2, 2, 1, 2, 2, 1, 1, 2, 2, 1, 1, 1, 1, 2, 2, 1, 2, 1, 2, 2,\n",
       "       2, 2, 2, 1, 2, 1, 1, 2, 2, 2, 2, 1, 1, 2, 2, 2, 1, 1, 2, 2, 2, 2,\n",
       "       2, 1, 2, 2, 2, 2, 2, 2, 2, 2, 1, 1, 1, 2, 2, 2, 2, 1, 1, 1, 2, 1,\n",
       "       1, 2, 1, 1, 2, 1, 1, 2, 2, 1, 2, 2, 1, 2, 1, 2, 2, 2, 2, 1, 2, 2,\n",
       "       2, 2, 2, 2, 2, 2, 2, 2, 1, 2, 2, 2, 1, 2, 2, 2, 2, 2, 1, 2, 2, 2,\n",
       "       2, 0, 1, 1, 1, 2, 1, 2, 2, 2, 2, 1, 2, 1, 1, 2, 1, 2, 2, 2, 1, 2,\n",
       "       2, 2, 2, 2, 2, 1, 2, 2, 2, 2, 1, 1, 1, 1, 2, 2, 2, 2, 2, 2, 2, 2,\n",
       "       2, 2, 2, 1, 2, 1, 1, 2, 1, 2, 2, 2, 2, 2, 2, 2, 2, 2, 2, 1, 1, 2,\n",
       "       2, 2, 2, 2, 2, 2, 2, 2, 0, 1, 1, 1, 2, 1, 1, 1, 1, 1, 0, 1, 0, 2,\n",
       "       1, 1, 0, 2, 2, 2, 2, 1, 1, 2, 2, 2, 2, 2, 2, 1, 2, 1, 1, 1, 2, 1,\n",
       "       1, 2, 1, 2, 2, 1, 2, 1, 2, 0, 1, 0, 1, 1, 1, 1, 1, 1, 2, 2, 1, 1,\n",
       "       1, 1, 1, 1, 2, 1, 1, 2, 2, 1, 2, 1, 1, 1, 2, 2, 2, 1, 2, 2, 1, 2,\n",
       "       1, 1, 2, 1, 1, 2, 2, 2, 2, 1, 1, 2, 1, 1, 1, 1, 2, 1, 2, 1, 1, 2,\n",
       "       1, 1, 2, 2, 2, 1, 1, 1, 2, 2, 2, 2, 1, 2, 2, 1, 2, 2, 2, 2, 1, 1,\n",
       "       2, 1, 1, 2, 0, 2, 1, 2, 2, 2, 1, 2, 2, 2, 2, 1, 2, 2, 2, 2, 2, 1,\n",
       "       2, 2, 1, 1, 2, 1, 2, 2, 1, 2, 2, 1, 2, 1, 2, 2, 1, 1, 2, 1, 1, 1,\n",
       "       2, 2, 1, 2])"
      ]
     },
     "execution_count": 17,
     "metadata": {},
     "output_type": "execute_result"
    }
   ],
   "source": [
    "Y"
   ]
  },
  {
   "cell_type": "code",
   "execution_count": 18,
   "metadata": {},
   "outputs": [
    {
     "data": {
      "text/plain": [
       "{0: 68, 1: 242, 2: 398}"
      ]
     },
     "execution_count": 18,
     "metadata": {},
     "output_type": "execute_result"
    }
   ],
   "source": [
    "unique, counts = np.unique(Y, return_counts=True)\n",
    "dict(zip(unique, counts))"
   ]
  },
  {
   "cell_type": "code",
   "execution_count": 19,
   "metadata": {},
   "outputs": [],
   "source": [
    "color_dict = {2: \"green\", 1: \"black\", 0: \"red\"}"
   ]
  },
  {
   "cell_type": "markdown",
   "metadata": {},
   "source": [
    "In the plot, the green colored points are subjects with high SA, black with medium SA, and red with low SA. This makes logical sense because the x-axis is normalized position error, and the y-axis is normalized angle error."
   ]
  },
  {
   "cell_type": "code",
   "execution_count": 20,
   "metadata": {},
   "outputs": [
    {
     "data": {
      "text/plain": [
       "<matplotlib.collections.PathCollection at 0x7f6cd50b2ea0>"
      ]
     },
     "execution_count": 20,
     "metadata": {},
     "output_type": "execute_result"
    },
    {
     "data": {
      "image/png": "[encoded data removed]",
      "text/plain": [
       "<Figure size 640x480 with 1 Axes>"
      ]
     },
     "metadata": {},
     "output_type": "display_data"
    }
   ],
   "source": [
    "plt.scatter(X_not_missed[:,0], X_not_missed[:, 1], c=[color_dict[label] for label in Y], s = 0.8)"
   ]
  },
  {
   "cell_type": "code",
   "execution_count": 21,
   "metadata": {},
   "outputs": [
    {
     "data": {
      "text/plain": [
       "(708, 11)"
      ]
     },
     "execution_count": 21,
     "metadata": {},
     "output_type": "execute_result"
    }
   ],
   "source": [
    "df_not_missed = df_not_missed.assign(not_missed_labels = Y)\n",
    "df_not_missed.shape"
   ]
  },
  {
   "cell_type": "markdown",
   "metadata": {},
   "source": [
    "This is the beginning of the code that incorporates the penalty for missed aircrafts in a trial. Note again that this particular set of parameters was the best for 3 components."
   ]
  },
  {
   "cell_type": "code",
   "execution_count": 22,
   "metadata": {},
   "outputs": [],
   "source": [
    "gm = GaussianMixture(n_components=3, covariance_type=\"diag\", init_params=\"k-means++\", random_state=80).fit(X_missed)\n",
    "Y_missed = gm.predict(X_missed)"
   ]
  },
  {
   "cell_type": "code",
   "execution_count": 23,
   "metadata": {},
   "outputs": [],
   "source": [
    "color_dict = {2: \"red\", 1: \"black\", 0: \"green\"}"
   ]
  },
  {
   "cell_type": "code",
   "execution_count": 24,
   "metadata": {},
   "outputs": [
    {
     "data": {
      "text/plain": [
       "[]"
      ]
     },
     "execution_count": 24,
     "metadata": {},
     "output_type": "execute_result"
    },
    {
     "data": {
      "image/png": "[encoded data removed]",
      "text/plain": [
       "<Figure size 640x480 with 1 Axes>"
      ]
     },
     "metadata": {},
     "output_type": "display_data"
    }
   ],
   "source": [
    "plt.scatter(X_missed[:, 0], X_missed[:, 1], c=[color_dict[label] for label in Y_missed], s = 0.8)\n",
    "plt.xlabel(\"distances_from_red_aircraft\")\n",
    "plt.ylabel(\"intersection_distances\")\n",
    "plt.plot()"
   ]
  },
  {
   "cell_type": "code",
   "execution_count": 25,
   "metadata": {},
   "outputs": [
    {
     "data": {
      "text/plain": [
       "{0: 71, 1: 28, 2: 32}"
      ]
     },
     "execution_count": 25,
     "metadata": {},
     "output_type": "execute_result"
    }
   ],
   "source": [
    "unique, counts = np.unique(Y_missed, return_counts=True)\n",
    "dict(zip(unique, counts))"
   ]
  },
  {
   "cell_type": "code",
   "execution_count": 26,
   "metadata": {},
   "outputs": [
    {
     "data": {
      "text/plain": [
       "{0: 1, 1: 0, 2: 2}"
      ]
     },
     "execution_count": 26,
     "metadata": {},
     "output_type": "execute_result"
    }
   ],
   "source": [
    "d = {}\n",
    "d[0] = 1\n",
    "d[1] = 0\n",
    "d[2] = 2\n",
    "d"
   ]
  },
  {
   "cell_type": "code",
   "execution_count": 27,
   "metadata": {},
   "outputs": [],
   "source": [
    "Y_new = np.zeros(Y_missed.shape, dtype=np.int64)"
   ]
  },
  {
   "cell_type": "code",
   "execution_count": 28,
   "metadata": {},
   "outputs": [],
   "source": [
    "for i in range(len(Y_new)):\n",
    "    Y_new[i] = d[Y_missed[i]]"
   ]
  },
  {
   "cell_type": "code",
   "execution_count": 29,
   "metadata": {},
   "outputs": [
    {
     "data": {
      "text/plain": [
       "{0: 28, 1: 71, 2: 32}"
      ]
     },
     "execution_count": 29,
     "metadata": {},
     "output_type": "execute_result"
    }
   ],
   "source": [
    "unique, counts = np.unique(Y_new, return_counts=True)\n",
    "dict(zip(unique, counts))"
   ]
  },
  {
   "cell_type": "markdown",
   "metadata": {},
   "source": [
    "In the plot below, the red points correspond to trials where subjects missed an aircraft, and were classified as having low SA because the missed aircraft was either relatively closer in distance to the red one (our aircraft), or the aircraft was on a collision course with the red aircraft.\n",
    "\n",
    "The red points have label '2' since we will use this later to subtract from the not missed label to obtain the final label. The green points have label '0' so missing these aircrafts does not impact the final label because they are very far from the red aircraft.\n",
    "\n",
    "Note that there is a point labelled '1' even though it is approximately 500 distance away from the red aircraft. This is because the aircraft was heading directly towards the red aircraft (hence the intersection distance is very small)."
   ]
  },
  {
   "cell_type": "code",
   "execution_count": 30,
   "metadata": {},
   "outputs": [
    {
     "data": {
      "text/plain": [
       "[]"
      ]
     },
     "execution_count": 30,
     "metadata": {},
     "output_type": "execute_result"
    },
    {
     "data": {
      "image/png": "[encoded data removed]",
      "text/plain": [
       "<Figure size 640x480 with 1 Axes>"
      ]
     },
     "metadata": {},
     "output_type": "display_data"
    }
   ],
   "source": [
    "plt.scatter(X_missed[:, 0], X_missed[:, 1], c=[color_dict[label] for label in Y_new], s = 0.8)\n",
    "plt.xlabel(\"distances_from_red_aircraft\")\n",
    "plt.ylabel(\"intersection_distances\")\n",
    "plt.plot()"
   ]
  },
  {
   "cell_type": "code",
   "execution_count": 31,
   "metadata": {},
   "outputs": [
    {
     "data": {
      "text/plain": [
       "array([[ 5.58032257e+01,  5.13743253e+01],\n",
       "       [ 3.53305817e+02, -7.34313766e+02],\n",
       "       [ 4.34994253e+02, -5.12734257e+02],\n",
       "       [ 3.90385707e+02,  1.10720342e+02],\n",
       "       [ 3.00093319e+02,  2.98811455e+02],\n",
       "       [ 4.03600050e+02, -1.86863954e+02],\n",
       "       [ 3.48242731e+02, -1.85130281e+02],\n",
       "       [ 2.24289991e+02, -6.74931779e+01],\n",
       "       [ 1.87856328e+02, -1.04995052e+02],\n",
       "       [ 5.00801358e+02,  1.92302994e+02],\n",
       "       [ 3.48242731e+02, -1.85130281e+02],\n",
       "       [ 1.72037787e+02,  9.52582460e+01],\n",
       "       [ 1.99612124e+02,  2.19967889e+02],\n",
       "       [ 3.71109148e+02, -3.70364977e+02],\n",
       "       [ 2.14895323e+02,  6.32549497e+01],\n",
       "       [ 1.00000000e+00,  1.00000000e+00],\n",
       "       [ 5.40832691e+01,  5.38370051e+01],\n",
       "       [ 1.00000000e+00,  1.00000000e+00],\n",
       "       [ 5.40832691e+01,  5.38370051e+01],\n",
       "       [ 1.00000000e+00,  1.00000000e+00],\n",
       "       [ 1.00000000e+00,  1.00000000e+00],\n",
       "       [ 1.00000000e+00,  1.00000000e+00],\n",
       "       [ 1.61074517e+02,  1.53764177e+02],\n",
       "       [ 4.18144712e+02, -4.75290964e+02],\n",
       "       [ 2.24289991e+02, -6.74931779e+01],\n",
       "       [ 1.00000000e+00,  1.00000000e+00],\n",
       "       [ 1.00000000e+00,  1.00000000e+00],\n",
       "       [ 1.00000000e+00,  1.00000000e+00],\n",
       "       [ 1.00000000e+00,  1.00000000e+00],\n",
       "       [ 1.00000000e+00,  1.00000000e+00],\n",
       "       [ 1.00000000e+00,  1.00000000e+00],\n",
       "       [ 3.71109148e+02, -3.70364977e+02],\n",
       "       [ 1.00000000e+00,  1.00000000e+00],\n",
       "       [ 1.00000000e+00,  1.00000000e+00],\n",
       "       [ 1.84694342e+02, -3.49529861e+01],\n",
       "       [ 1.50711645e+02,  8.16121404e+01],\n",
       "       [ 1.00000000e+00,  1.00000000e+00],\n",
       "       [ 3.03065999e+02, -6.56178193e+01],\n",
       "       [ 1.00000000e+00,  1.00000000e+00],\n",
       "       [ 3.71109148e+02, -3.70364977e+02],\n",
       "       [ 1.00000000e+00,  1.00000000e+00],\n",
       "       [ 1.68617911e+02,  2.17208713e+02],\n",
       "       [ 5.58032257e+01,  5.13743253e+01],\n",
       "       [ 3.90385707e+02,  1.10720342e+02],\n",
       "       [ 1.00000000e+00,  1.00000000e+00],\n",
       "       [ 2.46789384e+02,  6.84896434e+02],\n",
       "       [ 3.53305817e+02, -7.34313766e+02],\n",
       "       [ 3.56740802e+02, -2.90040491e+02],\n",
       "       [ 4.79353732e+02, -6.43633806e+02],\n",
       "       [ 5.29008507e+02, -6.28601183e+02],\n",
       "       [ 7.61536605e+02, -6.95832870e+02],\n",
       "       [ 4.18724253e+02, -4.32769327e+02],\n",
       "       [ 4.75588057e+02,  3.67276884e+02],\n",
       "       [ 3.69218093e+02,  1.24242574e+03],\n",
       "       [ 4.03600050e+02, -1.86863954e+02],\n",
       "       [ 5.53685831e+02,  5.22021119e+01],\n",
       "       [ 1.72037787e+02,  9.52582460e+01],\n",
       "       [ 4.02874670e+02, -5.00034294e+02],\n",
       "       [ 4.18144712e+02, -4.75290964e+02],\n",
       "       [ 2.16333077e+02, -3.57450327e+01],\n",
       "       [ 3.56089876e+02,  5.92545134e+02],\n",
       "       [ 1.68617911e+02,  2.17208713e+02],\n",
       "       [ 3.71109148e+02, -3.70364977e+02],\n",
       "       [ 5.58032257e+01,  5.13743253e+01],\n",
       "       [ 3.90385707e+02,  1.10720342e+02],\n",
       "       [ 4.34994253e+02, -5.12734257e+02],\n",
       "       [ 1.72037787e+02,  9.52582460e+01],\n",
       "       [ 3.56089876e+02,  5.92545134e+02],\n",
       "       [ 1.99612124e+02,  2.19967889e+02],\n",
       "       [ 8.47230783e+01,  3.92015771e+01],\n",
       "       [ 4.18144712e+02, -4.75290964e+02],\n",
       "       [ 2.03590275e+02, -1.81986726e+02],\n",
       "       [ 3.56740802e+02, -2.90040491e+02],\n",
       "       [ 4.18724253e+02, -4.32769327e+02],\n",
       "       [ 3.90385707e+02,  1.10720342e+02],\n",
       "       [ 1.68617911e+02,  2.17208713e+02],\n",
       "       [ 1.72037787e+02,  9.52582460e+01],\n",
       "       [ 4.18144712e+02, -4.75290964e+02],\n",
       "       [ 1.00000000e+00,  1.00000000e+00],\n",
       "       [ 3.53305817e+02, -7.34313766e+02],\n",
       "       [ 2.03590275e+02, -1.81986726e+02],\n",
       "       [ 1.96216717e+02,  2.62467969e+02],\n",
       "       [ 2.14895323e+02,  6.32549497e+01],\n",
       "       [ 2.24289991e+02, -6.74931779e+01],\n",
       "       [ 6.15802728e+02, -4.33775553e+02],\n",
       "       [ 1.21103262e+02,  2.88495798e+02],\n",
       "       [ 2.20601451e+02,  1.19455017e+03],\n",
       "       [ 3.71109148e+02, -3.70364977e+02],\n",
       "       [ 5.58032257e+01,  5.13743253e+01],\n",
       "       [ 3.90385707e+02,  1.10720342e+02],\n",
       "       [ 3.69218093e+02,  1.24242574e+03],\n",
       "       [ 3.56740802e+02, -2.90040491e+02],\n",
       "       [ 1.72037787e+02,  9.52582460e+01],\n",
       "       [ 4.46534433e+02,  6.19929667e+02],\n",
       "       [ 2.57287777e+02,  1.12039080e+02],\n",
       "       [ 4.18144712e+02, -4.75290964e+02],\n",
       "       [ 3.03065999e+02, -6.56178193e+01],\n",
       "       [ 3.41502562e+02, -1.27782530e+02],\n",
       "       [ 2.36596703e+02,  2.43192297e+02],\n",
       "       [ 4.18724253e+02, -4.32769327e+02],\n",
       "       [ 4.46534433e+02,  6.19929667e+02],\n",
       "       [ 4.18144712e+02, -4.75290964e+02],\n",
       "       [ 3.00093319e+02,  2.98811455e+02],\n",
       "       [ 4.34994253e+02, -5.12734257e+02],\n",
       "       [ 2.46789384e+02,  6.84896434e+02],\n",
       "       [ 3.56089876e+02,  5.92545134e+02],\n",
       "       [ 4.18144712e+02, -4.75290964e+02],\n",
       "       [ 1.68617911e+02,  2.17208713e+02],\n",
       "       [ 1.72037787e+02,  9.52582460e+01],\n",
       "       [ 6.99213844e+01, -2.75345073e+01],\n",
       "       [ 1.00000000e+00,  1.00000000e+00],\n",
       "       [ 4.34994253e+02, -5.12734257e+02],\n",
       "       [ 4.18144712e+02, -4.75290964e+02],\n",
       "       [ 4.34994253e+02, -5.12734257e+02],\n",
       "       [ 1.46741269e+02,  1.21678390e+02],\n",
       "       [ 1.00000000e+00,  1.00000000e+00],\n",
       "       [ 2.16333077e+02, -3.57450327e+01],\n",
       "       [ 1.00000000e+00,  1.00000000e+00],\n",
       "       [ 3.02332598e+02, -1.04007489e+03],\n",
       "       [ 1.00000000e+00,  1.00000000e+00],\n",
       "       [ 3.90385707e+02,  1.10720342e+02],\n",
       "       [ 5.40832691e+01,  5.38370051e+01],\n",
       "       [ 3.48242731e+02, -1.85130281e+02],\n",
       "       [ 2.86565874e+02, -8.24007861e+02],\n",
       "       [ 3.90385707e+02,  1.10720342e+02],\n",
       "       [ 3.04803215e+02,  5.48897561e+02],\n",
       "       [ 2.03590275e+02, -1.81986726e+02],\n",
       "       [ 6.15802728e+02, -4.33775553e+02],\n",
       "       [ 4.02874670e+02, -5.00034294e+02],\n",
       "       [ 5.40832691e+01,  5.38370051e+01],\n",
       "       [ 4.03600050e+02, -1.86863954e+02]])"
      ]
     },
     "execution_count": 31,
     "metadata": {},
     "output_type": "execute_result"
    }
   ],
   "source": [
    "X_missed"
   ]
  },
  {
   "cell_type": "code",
   "execution_count": 32,
   "metadata": {},
   "outputs": [],
   "source": [
    "df_missed = df_missed.assign(Missed_Labels=Y_new)"
   ]
  },
  {
   "cell_type": "markdown",
   "metadata": {},
   "source": [
    "The following code uses pandas to merge the df_not_missed and df_missed dataframes together."
   ]
  },
  {
   "cell_type": "code",
   "execution_count": 33,
   "metadata": {},
   "outputs": [
    {
     "data": {
      "text/html": [
       "<div>\n",
       "<style scoped>\n",
       "    .dataframe tbody tr th:only-of-type {\n",
       "        vertical-align: middle;\n",
       "    }\n",
       "\n",
       "    .dataframe tbody tr th {\n",
       "        vertical-align: top;\n",
       "    }\n",
       "\n",
       "    .dataframe thead th {\n",
       "        text-align: right;\n",
       "    }\n",
       "</style>\n",
       "<table border=\"1\" class=\"dataframe\">\n",
       "  <thead>\n",
       "    <tr style=\"text-align: right;\">\n",
       "      <th></th>\n",
       "      <th>name</th>\n",
       "      <th>position_error</th>\n",
       "      <th>angle_error</th>\n",
       "      <th>normalized_position_error</th>\n",
       "      <th>normalized_angle_error</th>\n",
       "      <th>num_aircrafts_for_normalization</th>\n",
       "      <th>number_of_missed_aircrafts</th>\n",
       "      <th>intersection_distances</th>\n",
       "      <th>distances_from_red_aircraft</th>\n",
       "      <th>num_aircrafts</th>\n",
       "      <th>Missed_Labels</th>\n",
       "    </tr>\n",
       "  </thead>\n",
       "  <tbody>\n",
       "    <tr>\n",
       "      <th>9</th>\n",
       "      <td>./1566954358/Task_1_5_5_secondary.json</td>\n",
       "      <td>269.672069</td>\n",
       "      <td>113.809939</td>\n",
       "      <td>53.934414</td>\n",
       "      <td>22.761988</td>\n",
       "      <td>5</td>\n",
       "      <td>1</td>\n",
       "      <td>51.374325</td>\n",
       "      <td>55.803226</td>\n",
       "      <td>6</td>\n",
       "      <td>2</td>\n",
       "    </tr>\n",
       "    <tr>\n",
       "      <th>10</th>\n",
       "      <td>./1566954358/Task_1_5_1_secondary.json</td>\n",
       "      <td>456.755839</td>\n",
       "      <td>386.092860</td>\n",
       "      <td>91.351168</td>\n",
       "      <td>77.218572</td>\n",
       "      <td>5</td>\n",
       "      <td>1</td>\n",
       "      <td>-734.313766</td>\n",
       "      <td>353.305817</td>\n",
       "      <td>6</td>\n",
       "      <td>1</td>\n",
       "    </tr>\n",
       "    <tr>\n",
       "      <th>13</th>\n",
       "      <td>./1566954358/Task_1_5_2.json</td>\n",
       "      <td>364.941579</td>\n",
       "      <td>131.344219</td>\n",
       "      <td>72.988316</td>\n",
       "      <td>26.268844</td>\n",
       "      <td>5</td>\n",
       "      <td>1</td>\n",
       "      <td>-512.734257</td>\n",
       "      <td>434.994253</td>\n",
       "      <td>6</td>\n",
       "      <td>0</td>\n",
       "    </tr>\n",
       "    <tr>\n",
       "      <th>18</th>\n",
       "      <td>./1566954358/Task_1_5_4_secondary.json</td>\n",
       "      <td>896.449236</td>\n",
       "      <td>404.838390</td>\n",
       "      <td>179.289847</td>\n",
       "      <td>80.967678</td>\n",
       "      <td>5</td>\n",
       "      <td>1</td>\n",
       "      <td>110.720342</td>\n",
       "      <td>390.385707</td>\n",
       "      <td>6</td>\n",
       "      <td>1</td>\n",
       "    </tr>\n",
       "    <tr>\n",
       "      <th>26</th>\n",
       "      <td>./1566954358/Task_1_5_7.json</td>\n",
       "      <td>352.163964</td>\n",
       "      <td>257.256188</td>\n",
       "      <td>70.432793</td>\n",
       "      <td>51.451238</td>\n",
       "      <td>5</td>\n",
       "      <td>1</td>\n",
       "      <td>298.811455</td>\n",
       "      <td>300.093319</td>\n",
       "      <td>6</td>\n",
       "      <td>1</td>\n",
       "    </tr>\n",
       "  </tbody>\n",
       "</table>\n",
       "</div>"
      ],
      "text/plain": [
       "                                      name  position_error  angle_error  \\\n",
       "9   ./1566954358/Task_1_5_5_secondary.json      269.672069   113.809939   \n",
       "10  ./1566954358/Task_1_5_1_secondary.json      456.755839   386.092860   \n",
       "13            ./1566954358/Task_1_5_2.json      364.941579   131.344219   \n",
       "18  ./1566954358/Task_1_5_4_secondary.json      896.449236   404.838390   \n",
       "26            ./1566954358/Task_1_5_7.json      352.163964   257.256188   \n",
       "\n",
       "    normalized_position_error  normalized_angle_error  \\\n",
       "9                   53.934414               22.761988   \n",
       "10                  91.351168               77.218572   \n",
       "13                  72.988316               26.268844   \n",
       "18                 179.289847               80.967678   \n",
       "26                  70.432793               51.451238   \n",
       "\n",
       "    num_aircrafts_for_normalization  number_of_missed_aircrafts  \\\n",
       "9                                 5                           1   \n",
       "10                                5                           1   \n",
       "13                                5                           1   \n",
       "18                                5                           1   \n",
       "26                                5                           1   \n",
       "\n",
       "    intersection_distances  distances_from_red_aircraft  num_aircrafts  \\\n",
       "9                51.374325                    55.803226              6   \n",
       "10             -734.313766                   353.305817              6   \n",
       "13             -512.734257                   434.994253              6   \n",
       "18              110.720342                   390.385707              6   \n",
       "26              298.811455                   300.093319              6   \n",
       "\n",
       "    Missed_Labels  \n",
       "9               2  \n",
       "10              1  \n",
       "13              0  \n",
       "18              1  \n",
       "26              1  "
      ]
     },
     "execution_count": 33,
     "metadata": {},
     "output_type": "execute_result"
    }
   ],
   "source": [
    "df_missed.head(5)"
   ]
  },
  {
   "cell_type": "code",
   "execution_count": 34,
   "metadata": {},
   "outputs": [],
   "source": [
    "df_missed = df_missed.drop(labels=[\"intersection_distances\", \"distances_from_red_aircraft\"], axis=1)"
   ]
  },
  {
   "cell_type": "code",
   "execution_count": 40,
   "metadata": {},
   "outputs": [
    {
     "data": {
      "text/html": [
       "<div>\n",
       "<style scoped>\n",
       "    .dataframe tbody tr th:only-of-type {\n",
       "        vertical-align: middle;\n",
       "    }\n",
       "\n",
       "    .dataframe tbody tr th {\n",
       "        vertical-align: top;\n",
       "    }\n",
       "\n",
       "    .dataframe thead th {\n",
       "        text-align: right;\n",
       "    }\n",
       "</style>\n",
       "<table border=\"1\" class=\"dataframe\">\n",
       "  <thead>\n",
       "    <tr style=\"text-align: right;\">\n",
       "      <th></th>\n",
       "      <th>name</th>\n",
       "      <th>position_error</th>\n",
       "      <th>angle_error</th>\n",
       "      <th>normalized_position_error</th>\n",
       "      <th>normalized_angle_error</th>\n",
       "      <th>num_aircrafts_for_normalization</th>\n",
       "      <th>number_of_missed_aircrafts</th>\n",
       "      <th>num_aircrafts</th>\n",
       "      <th>Missed_Labels</th>\n",
       "    </tr>\n",
       "  </thead>\n",
       "  <tbody>\n",
       "    <tr>\n",
       "      <th>9</th>\n",
       "      <td>./1566954358/Task_1_5_5_secondary.json</td>\n",
       "      <td>269.672069</td>\n",
       "      <td>113.809939</td>\n",
       "      <td>53.934414</td>\n",
       "      <td>22.761988</td>\n",
       "      <td>5</td>\n",
       "      <td>1</td>\n",
       "      <td>6</td>\n",
       "      <td>2</td>\n",
       "    </tr>\n",
       "    <tr>\n",
       "      <th>10</th>\n",
       "      <td>./1566954358/Task_1_5_1_secondary.json</td>\n",
       "      <td>456.755839</td>\n",
       "      <td>386.092860</td>\n",
       "      <td>91.351168</td>\n",
       "      <td>77.218572</td>\n",
       "      <td>5</td>\n",
       "      <td>1</td>\n",
       "      <td>6</td>\n",
       "      <td>1</td>\n",
       "    </tr>\n",
       "    <tr>\n",
       "      <th>13</th>\n",
       "      <td>./1566954358/Task_1_5_2.json</td>\n",
       "      <td>364.941579</td>\n",
       "      <td>131.344219</td>\n",
       "      <td>72.988316</td>\n",
       "      <td>26.268844</td>\n",
       "      <td>5</td>\n",
       "      <td>1</td>\n",
       "      <td>6</td>\n",
       "      <td>0</td>\n",
       "    </tr>\n",
       "    <tr>\n",
       "      <th>18</th>\n",
       "      <td>./1566954358/Task_1_5_4_secondary.json</td>\n",
       "      <td>896.449236</td>\n",
       "      <td>404.838390</td>\n",
       "      <td>179.289847</td>\n",
       "      <td>80.967678</td>\n",
       "      <td>5</td>\n",
       "      <td>1</td>\n",
       "      <td>6</td>\n",
       "      <td>1</td>\n",
       "    </tr>\n",
       "    <tr>\n",
       "      <th>26</th>\n",
       "      <td>./1566954358/Task_1_5_7.json</td>\n",
       "      <td>352.163964</td>\n",
       "      <td>257.256188</td>\n",
       "      <td>70.432793</td>\n",
       "      <td>51.451238</td>\n",
       "      <td>5</td>\n",
       "      <td>1</td>\n",
       "      <td>6</td>\n",
       "      <td>1</td>\n",
       "    </tr>\n",
       "  </tbody>\n",
       "</table>\n",
       "</div>"
      ],
      "text/plain": [
       "                                      name  position_error  angle_error  \\\n",
       "9   ./1566954358/Task_1_5_5_secondary.json      269.672069   113.809939   \n",
       "10  ./1566954358/Task_1_5_1_secondary.json      456.755839   386.092860   \n",
       "13            ./1566954358/Task_1_5_2.json      364.941579   131.344219   \n",
       "18  ./1566954358/Task_1_5_4_secondary.json      896.449236   404.838390   \n",
       "26            ./1566954358/Task_1_5_7.json      352.163964   257.256188   \n",
       "\n",
       "    normalized_position_error  normalized_angle_error  \\\n",
       "9                   53.934414               22.761988   \n",
       "10                  91.351168               77.218572   \n",
       "13                  72.988316               26.268844   \n",
       "18                 179.289847               80.967678   \n",
       "26                  70.432793               51.451238   \n",
       "\n",
       "    num_aircrafts_for_normalization  number_of_missed_aircrafts  \\\n",
       "9                                 5                           1   \n",
       "10                                5                           1   \n",
       "13                                5                           1   \n",
       "18                                5                           1   \n",
       "26                                5                           1   \n",
       "\n",
       "    num_aircrafts  Missed_Labels  \n",
       "9               6              2  \n",
       "10              6              1  \n",
       "13              6              0  \n",
       "18              6              1  \n",
       "26              6              1  "
      ]
     },
     "execution_count": 40,
     "metadata": {},
     "output_type": "execute_result"
    }
   ],
   "source": [
    "df_missed.head(5)"
   ]
  },
  {
   "cell_type": "code",
   "execution_count": 36,
   "metadata": {},
   "outputs": [],
   "source": [
    "# aggregation_functions = {'name': 'first', 'position_error': 'first', 'angle_error': 'first', 'normalized_position_error': 'first'}\n",
    "aggregation_functions = {'Missed_Labels': 'sum'}\n",
    "df_new = df_missed.groupby(df_missed['name']).aggregate(aggregation_functions)"
   ]
  },
  {
   "cell_type": "code",
   "execution_count": 37,
   "metadata": {},
   "outputs": [],
   "source": [
    "df_new = df_new.reset_index()"
   ]
  },
  {
   "cell_type": "code",
   "execution_count": 38,
   "metadata": {},
   "outputs": [
    {
     "data": {
      "text/html": [
       "<div>\n",
       "<style scoped>\n",
       "    .dataframe tbody tr th:only-of-type {\n",
       "        vertical-align: middle;\n",
       "    }\n",
       "\n",
       "    .dataframe tbody tr th {\n",
       "        vertical-align: top;\n",
       "    }\n",
       "\n",
       "    .dataframe thead th {\n",
       "        text-align: right;\n",
       "    }\n",
       "</style>\n",
       "<table border=\"1\" class=\"dataframe\">\n",
       "  <thead>\n",
       "    <tr style=\"text-align: right;\">\n",
       "      <th></th>\n",
       "      <th>name</th>\n",
       "      <th>Missed_Labels</th>\n",
       "    </tr>\n",
       "  </thead>\n",
       "  <tbody>\n",
       "    <tr>\n",
       "      <th>0</th>\n",
       "      <td>./1008719828/Task_1_5_10_secondary.json</td>\n",
       "      <td>1</td>\n",
       "    </tr>\n",
       "    <tr>\n",
       "      <th>1</th>\n",
       "      <td>./1008719828/Task_1_5_2.json</td>\n",
       "      <td>0</td>\n",
       "    </tr>\n",
       "    <tr>\n",
       "      <th>2</th>\n",
       "      <td>./1008719828/Task_1_5_3_secondary.json</td>\n",
       "      <td>2</td>\n",
       "    </tr>\n",
       "    <tr>\n",
       "      <th>3</th>\n",
       "      <td>./1008719828/Task_1_5_4.json</td>\n",
       "      <td>1</td>\n",
       "    </tr>\n",
       "    <tr>\n",
       "      <th>4</th>\n",
       "      <td>./1008719828/Task_1_5_5_secondary.json</td>\n",
       "      <td>2</td>\n",
       "    </tr>\n",
       "  </tbody>\n",
       "</table>\n",
       "</div>"
      ],
      "text/plain": [
       "                                      name  Missed_Labels\n",
       "0  ./1008719828/Task_1_5_10_secondary.json              1\n",
       "1             ./1008719828/Task_1_5_2.json              0\n",
       "2   ./1008719828/Task_1_5_3_secondary.json              2\n",
       "3             ./1008719828/Task_1_5_4.json              1\n",
       "4   ./1008719828/Task_1_5_5_secondary.json              2"
      ]
     },
     "execution_count": 38,
     "metadata": {},
     "output_type": "execute_result"
    }
   ],
   "source": [
    "df_new.head()"
   ]
  },
  {
   "cell_type": "code",
   "execution_count": 39,
   "metadata": {},
   "outputs": [
    {
     "data": {
      "text/html": [
       "<div>\n",
       "<style scoped>\n",
       "    .dataframe tbody tr th:only-of-type {\n",
       "        vertical-align: middle;\n",
       "    }\n",
       "\n",
       "    .dataframe tbody tr th {\n",
       "        vertical-align: top;\n",
       "    }\n",
       "\n",
       "    .dataframe thead th {\n",
       "        text-align: right;\n",
       "    }\n",
       "</style>\n",
       "<table border=\"1\" class=\"dataframe\">\n",
       "  <thead>\n",
       "    <tr style=\"text-align: right;\">\n",
       "      <th></th>\n",
       "      <th>name</th>\n",
       "      <th>position_error</th>\n",
       "      <th>angle_error</th>\n",
       "      <th>normalized_position_error</th>\n",
       "      <th>normalized_angle_error</th>\n",
       "      <th>num_aircrafts_for_normalization</th>\n",
       "      <th>number_of_missed_aircrafts</th>\n",
       "      <th>num_aircrafts</th>\n",
       "      <th>not_missed_labels</th>\n",
       "    </tr>\n",
       "  </thead>\n",
       "  <tbody>\n",
       "    <tr>\n",
       "      <th>0</th>\n",
       "      <td>./1566954358/Task_1_1_1_secondary.json</td>\n",
       "      <td>62.149627</td>\n",
       "      <td>9.715358</td>\n",
       "      <td>31.074813</td>\n",
       "      <td>4.857679</td>\n",
       "      <td>2</td>\n",
       "      <td>0</td>\n",
       "      <td>2</td>\n",
       "      <td>2</td>\n",
       "    </tr>\n",
       "    <tr>\n",
       "      <th>1</th>\n",
       "      <td>./1566954358/Task_1_3_6.json</td>\n",
       "      <td>260.005346</td>\n",
       "      <td>61.313904</td>\n",
       "      <td>65.001336</td>\n",
       "      <td>15.328476</td>\n",
       "      <td>4</td>\n",
       "      <td>0</td>\n",
       "      <td>4</td>\n",
       "      <td>2</td>\n",
       "    </tr>\n",
       "    <tr>\n",
       "      <th>2</th>\n",
       "      <td>./1566954358/Task_1_3_1.json</td>\n",
       "      <td>246.825476</td>\n",
       "      <td>32.006403</td>\n",
       "      <td>61.706369</td>\n",
       "      <td>8.001601</td>\n",
       "      <td>4</td>\n",
       "      <td>0</td>\n",
       "      <td>4</td>\n",
       "      <td>2</td>\n",
       "    </tr>\n",
       "    <tr>\n",
       "      <th>3</th>\n",
       "      <td>./1566954358/Task_1_1_7_secondary.json</td>\n",
       "      <td>126.646193</td>\n",
       "      <td>67.696985</td>\n",
       "      <td>63.323097</td>\n",
       "      <td>33.848492</td>\n",
       "      <td>2</td>\n",
       "      <td>0</td>\n",
       "      <td>2</td>\n",
       "      <td>1</td>\n",
       "    </tr>\n",
       "    <tr>\n",
       "      <th>4</th>\n",
       "      <td>./1566954358/Task_1_5_9_secondary.json</td>\n",
       "      <td>575.248075</td>\n",
       "      <td>230.974696</td>\n",
       "      <td>95.874679</td>\n",
       "      <td>38.495783</td>\n",
       "      <td>6</td>\n",
       "      <td>0</td>\n",
       "      <td>6</td>\n",
       "      <td>1</td>\n",
       "    </tr>\n",
       "    <tr>\n",
       "      <th>5</th>\n",
       "      <td>./1566954358/Task_1_1_9.json</td>\n",
       "      <td>143.254472</td>\n",
       "      <td>10.219988</td>\n",
       "      <td>71.627236</td>\n",
       "      <td>5.109994</td>\n",
       "      <td>2</td>\n",
       "      <td>0</td>\n",
       "      <td>2</td>\n",
       "      <td>2</td>\n",
       "    </tr>\n",
       "    <tr>\n",
       "      <th>6</th>\n",
       "      <td>./1566954358/Task_1_5_6_secondary.json</td>\n",
       "      <td>295.261893</td>\n",
       "      <td>123.038283</td>\n",
       "      <td>49.210315</td>\n",
       "      <td>20.506381</td>\n",
       "      <td>6</td>\n",
       "      <td>0</td>\n",
       "      <td>6</td>\n",
       "      <td>1</td>\n",
       "    </tr>\n",
       "    <tr>\n",
       "      <th>7</th>\n",
       "      <td>./1566954358/Task_1_1_8.json</td>\n",
       "      <td>73.392391</td>\n",
       "      <td>10.636637</td>\n",
       "      <td>36.696195</td>\n",
       "      <td>5.318318</td>\n",
       "      <td>2</td>\n",
       "      <td>0</td>\n",
       "      <td>2</td>\n",
       "      <td>2</td>\n",
       "    </tr>\n",
       "    <tr>\n",
       "      <th>8</th>\n",
       "      <td>./1566954358/Task_1_1_10_secondary.json</td>\n",
       "      <td>62.129032</td>\n",
       "      <td>2.350205</td>\n",
       "      <td>31.064516</td>\n",
       "      <td>1.175102</td>\n",
       "      <td>2</td>\n",
       "      <td>0</td>\n",
       "      <td>2</td>\n",
       "      <td>2</td>\n",
       "    </tr>\n",
       "    <tr>\n",
       "      <th>9</th>\n",
       "      <td>./1566954358/Task_1_5_5_secondary.json</td>\n",
       "      <td>269.672069</td>\n",
       "      <td>113.809939</td>\n",
       "      <td>53.934414</td>\n",
       "      <td>22.761988</td>\n",
       "      <td>5</td>\n",
       "      <td>1</td>\n",
       "      <td>6</td>\n",
       "      <td>1</td>\n",
       "    </tr>\n",
       "  </tbody>\n",
       "</table>\n",
       "</div>"
      ],
      "text/plain": [
       "                                      name  position_error  angle_error  \\\n",
       "0   ./1566954358/Task_1_1_1_secondary.json       62.149627     9.715358   \n",
       "1             ./1566954358/Task_1_3_6.json      260.005346    61.313904   \n",
       "2             ./1566954358/Task_1_3_1.json      246.825476    32.006403   \n",
       "3   ./1566954358/Task_1_1_7_secondary.json      126.646193    67.696985   \n",
       "4   ./1566954358/Task_1_5_9_secondary.json      575.248075   230.974696   \n",
       "5             ./1566954358/Task_1_1_9.json      143.254472    10.219988   \n",
       "6   ./1566954358/Task_1_5_6_secondary.json      295.261893   123.038283   \n",
       "7             ./1566954358/Task_1_1_8.json       73.392391    10.636637   \n",
       "8  ./1566954358/Task_1_1_10_secondary.json       62.129032     2.350205   \n",
       "9   ./1566954358/Task_1_5_5_secondary.json      269.672069   113.809939   \n",
       "\n",
       "   normalized_position_error  normalized_angle_error  \\\n",
       "0                  31.074813                4.857679   \n",
       "1                  65.001336               15.328476   \n",
       "2                  61.706369                8.001601   \n",
       "3                  63.323097               33.848492   \n",
       "4                  95.874679               38.495783   \n",
       "5                  71.627236                5.109994   \n",
       "6                  49.210315               20.506381   \n",
       "7                  36.696195                5.318318   \n",
       "8                  31.064516                1.175102   \n",
       "9                  53.934414               22.761988   \n",
       "\n",
       "   num_aircrafts_for_normalization  number_of_missed_aircrafts  num_aircrafts  \\\n",
       "0                                2                           0              2   \n",
       "1                                4                           0              4   \n",
       "2                                4                           0              4   \n",
       "3                                2                           0              2   \n",
       "4                                6                           0              6   \n",
       "5                                2                           0              2   \n",
       "6                                6                           0              6   \n",
       "7                                2                           0              2   \n",
       "8                                2                           0              2   \n",
       "9                                5                           1              6   \n",
       "\n",
       "   not_missed_labels  \n",
       "0                  2  \n",
       "1                  2  \n",
       "2                  2  \n",
       "3                  1  \n",
       "4                  1  \n",
       "5                  2  \n",
       "6                  1  \n",
       "7                  2  \n",
       "8                  2  \n",
       "9                  1  "
      ]
     },
     "execution_count": 39,
     "metadata": {},
     "output_type": "execute_result"
    }
   ],
   "source": [
    "df_not_missed = df_not_missed.drop(labels=[\"intersection_distances\", \"distances_from_red_aircraft\"], axis=1)"
   ]
  },
  {
   "cell_type": "code",
   "execution_count": null,
   "metadata": {},
   "outputs": [],
   "source": [
    "df_not_missed.head(200)"
   ]
  },
  {
   "cell_type": "code",
   "execution_count": 45,
   "metadata": {},
   "outputs": [
    {
     "data": {
      "text/plain": [
       "(693, 9)"
      ]
     },
     "execution_count": 45,
     "metadata": {},
     "output_type": "execute_result"
    }
   ],
   "source": [
    "aggregation_functions = {'name': 'first', 'position_error': 'first', 'angle_error': 'first', 'normalized_position_error': 'first', 'normalized_angle_error': 'first', 'num_aircrafts_for_normalization': 'first', 'number_of_missed_aircrafts': 'first', 'num_aircrafts': 'first', 'not_missed_labels': 'first'}\n",
    "df_not_missed = df_not_missed.groupby(df_not_missed['name']).aggregate(aggregation_functions)\n",
    "df_not_missed.shape"
   ]
  },
  {
   "cell_type": "markdown",
   "metadata": {},
   "source": [
    "Note that the size went down from 708 to 693. This is because the input errors_dataframe.csv had a row for every missed aircraft - so if 2 aircrafts were missed during a single trail, errors_dataframe.csv would have two lines with identical data, apart from the columns \"intersection_distance\" and \"distance_from_red_aircraft\"."
   ]
  },
  {
   "cell_type": "code",
   "execution_count": 46,
   "metadata": {},
   "outputs": [
    {
     "data": {
      "text/html": [
       "<div>\n",
       "<style scoped>\n",
       "    .dataframe tbody tr th:only-of-type {\n",
       "        vertical-align: middle;\n",
       "    }\n",
       "\n",
       "    .dataframe tbody tr th {\n",
       "        vertical-align: top;\n",
       "    }\n",
       "\n",
       "    .dataframe thead th {\n",
       "        text-align: right;\n",
       "    }\n",
       "</style>\n",
       "<table border=\"1\" class=\"dataframe\">\n",
       "  <thead>\n",
       "    <tr style=\"text-align: right;\">\n",
       "      <th></th>\n",
       "      <th>name</th>\n",
       "      <th>position_error</th>\n",
       "      <th>angle_error</th>\n",
       "      <th>normalized_position_error</th>\n",
       "      <th>normalized_angle_error</th>\n",
       "      <th>num_aircrafts_for_normalization</th>\n",
       "      <th>number_of_missed_aircrafts</th>\n",
       "      <th>num_aircrafts</th>\n",
       "      <th>not_missed_labels</th>\n",
       "    </tr>\n",
       "    <tr>\n",
       "      <th>name</th>\n",
       "      <th></th>\n",
       "      <th></th>\n",
       "      <th></th>\n",
       "      <th></th>\n",
       "      <th></th>\n",
       "      <th></th>\n",
       "      <th></th>\n",
       "      <th></th>\n",
       "      <th></th>\n",
       "    </tr>\n",
       "  </thead>\n",
       "  <tbody>\n",
       "    <tr>\n",
       "      <th>./1008719828/Task_1_1_10_secondary.json</th>\n",
       "      <td>./1008719828/Task_1_1_10_secondary.json</td>\n",
       "      <td>108.944051</td>\n",
       "      <td>2.773462</td>\n",
       "      <td>54.472025</td>\n",
       "      <td>1.386731</td>\n",
       "      <td>2</td>\n",
       "      <td>0</td>\n",
       "      <td>2</td>\n",
       "      <td>2</td>\n",
       "    </tr>\n",
       "    <tr>\n",
       "      <th>./1008719828/Task_1_1_1_secondary.json</th>\n",
       "      <td>./1008719828/Task_1_1_1_secondary.json</td>\n",
       "      <td>22.564032</td>\n",
       "      <td>11.734916</td>\n",
       "      <td>11.282016</td>\n",
       "      <td>5.867458</td>\n",
       "      <td>2</td>\n",
       "      <td>0</td>\n",
       "      <td>2</td>\n",
       "      <td>2</td>\n",
       "    </tr>\n",
       "    <tr>\n",
       "      <th>./1008719828/Task_1_1_2.json</th>\n",
       "      <td>./1008719828/Task_1_1_2.json</td>\n",
       "      <td>44.057096</td>\n",
       "      <td>11.682402</td>\n",
       "      <td>22.028548</td>\n",
       "      <td>5.841201</td>\n",
       "      <td>2</td>\n",
       "      <td>0</td>\n",
       "      <td>2</td>\n",
       "      <td>2</td>\n",
       "    </tr>\n",
       "    <tr>\n",
       "      <th>./1008719828/Task_1_1_3.json</th>\n",
       "      <td>./1008719828/Task_1_1_3.json</td>\n",
       "      <td>35.277980</td>\n",
       "      <td>6.857112</td>\n",
       "      <td>17.638990</td>\n",
       "      <td>3.428556</td>\n",
       "      <td>2</td>\n",
       "      <td>0</td>\n",
       "      <td>2</td>\n",
       "      <td>2</td>\n",
       "    </tr>\n",
       "    <tr>\n",
       "      <th>./1008719828/Task_1_1_4.json</th>\n",
       "      <td>./1008719828/Task_1_1_4.json</td>\n",
       "      <td>98.397408</td>\n",
       "      <td>23.829007</td>\n",
       "      <td>49.198704</td>\n",
       "      <td>11.914503</td>\n",
       "      <td>2</td>\n",
       "      <td>0</td>\n",
       "      <td>2</td>\n",
       "      <td>2</td>\n",
       "    </tr>\n",
       "  </tbody>\n",
       "</table>\n",
       "</div>"
      ],
      "text/plain": [
       "                                                                            name  \\\n",
       "name                                                                               \n",
       "./1008719828/Task_1_1_10_secondary.json  ./1008719828/Task_1_1_10_secondary.json   \n",
       "./1008719828/Task_1_1_1_secondary.json    ./1008719828/Task_1_1_1_secondary.json   \n",
       "./1008719828/Task_1_1_2.json                        ./1008719828/Task_1_1_2.json   \n",
       "./1008719828/Task_1_1_3.json                        ./1008719828/Task_1_1_3.json   \n",
       "./1008719828/Task_1_1_4.json                        ./1008719828/Task_1_1_4.json   \n",
       "\n",
       "                                         position_error  angle_error  \\\n",
       "name                                                                   \n",
       "./1008719828/Task_1_1_10_secondary.json      108.944051     2.773462   \n",
       "./1008719828/Task_1_1_1_secondary.json        22.564032    11.734916   \n",
       "./1008719828/Task_1_1_2.json                  44.057096    11.682402   \n",
       "./1008719828/Task_1_1_3.json                  35.277980     6.857112   \n",
       "./1008719828/Task_1_1_4.json                  98.397408    23.829007   \n",
       "\n",
       "                                         normalized_position_error  \\\n",
       "name                                                                 \n",
       "./1008719828/Task_1_1_10_secondary.json                  54.472025   \n",
       "./1008719828/Task_1_1_1_secondary.json                   11.282016   \n",
       "./1008719828/Task_1_1_2.json                             22.028548   \n",
       "./1008719828/Task_1_1_3.json                             17.638990   \n",
       "./1008719828/Task_1_1_4.json                             49.198704   \n",
       "\n",
       "                                         normalized_angle_error  \\\n",
       "name                                                              \n",
       "./1008719828/Task_1_1_10_secondary.json                1.386731   \n",
       "./1008719828/Task_1_1_1_secondary.json                 5.867458   \n",
       "./1008719828/Task_1_1_2.json                           5.841201   \n",
       "./1008719828/Task_1_1_3.json                           3.428556   \n",
       "./1008719828/Task_1_1_4.json                          11.914503   \n",
       "\n",
       "                                         num_aircrafts_for_normalization  \\\n",
       "name                                                                       \n",
       "./1008719828/Task_1_1_10_secondary.json                                2   \n",
       "./1008719828/Task_1_1_1_secondary.json                                 2   \n",
       "./1008719828/Task_1_1_2.json                                           2   \n",
       "./1008719828/Task_1_1_3.json                                           2   \n",
       "./1008719828/Task_1_1_4.json                                           2   \n",
       "\n",
       "                                         number_of_missed_aircrafts  \\\n",
       "name                                                                  \n",
       "./1008719828/Task_1_1_10_secondary.json                           0   \n",
       "./1008719828/Task_1_1_1_secondary.json                            0   \n",
       "./1008719828/Task_1_1_2.json                                      0   \n",
       "./1008719828/Task_1_1_3.json                                      0   \n",
       "./1008719828/Task_1_1_4.json                                      0   \n",
       "\n",
       "                                         num_aircrafts  not_missed_labels  \n",
       "name                                                                       \n",
       "./1008719828/Task_1_1_10_secondary.json              2                  2  \n",
       "./1008719828/Task_1_1_1_secondary.json               2                  2  \n",
       "./1008719828/Task_1_1_2.json                         2                  2  \n",
       "./1008719828/Task_1_1_3.json                         2                  2  \n",
       "./1008719828/Task_1_1_4.json                         2                  2  "
      ]
     },
     "execution_count": 46,
     "metadata": {},
     "output_type": "execute_result"
    }
   ],
   "source": [
    "df_not_missed.head()"
   ]
  },
  {
   "cell_type": "code",
   "execution_count": 47,
   "metadata": {},
   "outputs": [],
   "source": [
    "df_not_missed = df_not_missed.drop('name', axis=1)"
   ]
  },
  {
   "cell_type": "code",
   "execution_count": 48,
   "metadata": {},
   "outputs": [],
   "source": [
    "df_not_missed = df_not_missed.reset_index()"
   ]
  },
  {
   "cell_type": "code",
   "execution_count": 49,
   "metadata": {},
   "outputs": [
    {
     "data": {
      "text/plain": [
       "(693, 9)"
      ]
     },
     "execution_count": 49,
     "metadata": {},
     "output_type": "execute_result"
    }
   ],
   "source": [
    "df_not_missed.shape"
   ]
  },
  {
   "cell_type": "code",
   "execution_count": null,
   "metadata": {},
   "outputs": [],
   "source": [
    "df_not_missed.head(100)"
   ]
  },
  {
   "cell_type": "code",
   "execution_count": null,
   "metadata": {},
   "outputs": [],
   "source": [
    "df_new.head(100)"
   ]
  },
  {
   "cell_type": "code",
   "execution_count": 52,
   "metadata": {},
   "outputs": [],
   "source": [
    "merged_df = df_not_missed.merge(df_new, on='name', how='left')"
   ]
  },
  {
   "cell_type": "markdown",
   "metadata": {},
   "source": [
    "Merge the two dataframes"
   ]
  },
  {
   "cell_type": "code",
   "execution_count": 53,
   "metadata": {},
   "outputs": [],
   "source": [
    "merged_df[\"Missed_Labels\"] = merged_df[\"Missed_Labels\"].fillna(0)"
   ]
  },
  {
   "cell_type": "code",
   "execution_count": 55,
   "metadata": {},
   "outputs": [
    {
     "data": {
      "text/plain": [
       "Missed_Labels\n",
       "0.0    596\n",
       "1.0     61\n",
       "2.0     35\n",
       "4.0      1\n",
       "Name: count, dtype: int64"
      ]
     },
     "execution_count": 55,
     "metadata": {},
     "output_type": "execute_result"
    }
   ],
   "source": [
    "merged_df[\"Missed_Labels\"].value_counts()"
   ]
  },
  {
   "cell_type": "code",
   "execution_count": null,
   "metadata": {},
   "outputs": [],
   "source": [
    "merged_df.head(100)"
   ]
  },
  {
   "cell_type": "markdown",
   "metadata": {},
   "source": [
    "Subtract missed label from not_missed label"
   ]
  },
  {
   "cell_type": "code",
   "execution_count": 60,
   "metadata": {},
   "outputs": [],
   "source": [
    "merged_df[\"labels\"] = merged_df[\"not_missed_labels\"] - merged_df[\"Missed_Labels\"]"
   ]
  },
  {
   "cell_type": "code",
   "execution_count": 61,
   "metadata": {},
   "outputs": [
    {
     "data": {
      "text/plain": [
       "labels\n",
       " 2.0    355\n",
       " 1.0    193\n",
       " 0.0    125\n",
       "-1.0     16\n",
       "-2.0      4\n",
       "Name: count, dtype: int64"
      ]
     },
     "execution_count": 61,
     "metadata": {},
     "output_type": "execute_result"
    }
   ],
   "source": [
    "merged_df[\"labels\"].value_counts()"
   ]
  },
  {
   "cell_type": "markdown",
   "metadata": {},
   "source": [
    "If the SA value is < 0, then it is reset to 0 (the lowest SA level)"
   ]
  },
  {
   "cell_type": "code",
   "execution_count": 62,
   "metadata": {},
   "outputs": [],
   "source": [
    "merged_df['labels'] = merged_df['labels'].where(merged_df['labels'] >= 0, 0)"
   ]
  },
  {
   "cell_type": "code",
   "execution_count": 65,
   "metadata": {},
   "outputs": [
    {
     "name": "stdout",
     "output_type": "stream",
     "text": [
      "labels\n",
      "2    355\n",
      "1    193\n",
      "0    145\n",
      "Name: count, dtype: int64\n"
     ]
    }
   ],
   "source": [
    "print(merged_df[\"labels\"].value_counts())\n",
    "merged_df[\"labels\"] = merged_df[\"labels\"].astype(int)"
   ]
  },
  {
   "cell_type": "code",
   "execution_count": 66,
   "metadata": {},
   "outputs": [
    {
     "data": {
      "text/html": [
       "<div>\n",
       "<style scoped>\n",
       "    .dataframe tbody tr th:only-of-type {\n",
       "        vertical-align: middle;\n",
       "    }\n",
       "\n",
       "    .dataframe tbody tr th {\n",
       "        vertical-align: top;\n",
       "    }\n",
       "\n",
       "    .dataframe thead th {\n",
       "        text-align: right;\n",
       "    }\n",
       "</style>\n",
       "<table border=\"1\" class=\"dataframe\">\n",
       "  <thead>\n",
       "    <tr style=\"text-align: right;\">\n",
       "      <th></th>\n",
       "      <th>name</th>\n",
       "      <th>position_error</th>\n",
       "      <th>angle_error</th>\n",
       "      <th>normalized_position_error</th>\n",
       "      <th>normalized_angle_error</th>\n",
       "      <th>num_aircrafts_for_normalization</th>\n",
       "      <th>number_of_missed_aircrafts</th>\n",
       "      <th>num_aircrafts</th>\n",
       "      <th>not_missed_labels</th>\n",
       "      <th>Missed_Labels</th>\n",
       "      <th>labels</th>\n",
       "    </tr>\n",
       "  </thead>\n",
       "  <tbody>\n",
       "    <tr>\n",
       "      <th>0</th>\n",
       "      <td>./1008719828/Task_1_1_10_secondary.json</td>\n",
       "      <td>108.944051</td>\n",
       "      <td>2.773462</td>\n",
       "      <td>54.472025</td>\n",
       "      <td>1.386731</td>\n",
       "      <td>2</td>\n",
       "      <td>0</td>\n",
       "      <td>2</td>\n",
       "      <td>2</td>\n",
       "      <td>0.0</td>\n",
       "      <td>2</td>\n",
       "    </tr>\n",
       "    <tr>\n",
       "      <th>1</th>\n",
       "      <td>./1008719828/Task_1_1_1_secondary.json</td>\n",
       "      <td>22.564032</td>\n",
       "      <td>11.734916</td>\n",
       "      <td>11.282016</td>\n",
       "      <td>5.867458</td>\n",
       "      <td>2</td>\n",
       "      <td>0</td>\n",
       "      <td>2</td>\n",
       "      <td>2</td>\n",
       "      <td>0.0</td>\n",
       "      <td>2</td>\n",
       "    </tr>\n",
       "    <tr>\n",
       "      <th>2</th>\n",
       "      <td>./1008719828/Task_1_1_2.json</td>\n",
       "      <td>44.057096</td>\n",
       "      <td>11.682402</td>\n",
       "      <td>22.028548</td>\n",
       "      <td>5.841201</td>\n",
       "      <td>2</td>\n",
       "      <td>0</td>\n",
       "      <td>2</td>\n",
       "      <td>2</td>\n",
       "      <td>0.0</td>\n",
       "      <td>2</td>\n",
       "    </tr>\n",
       "    <tr>\n",
       "      <th>3</th>\n",
       "      <td>./1008719828/Task_1_1_3.json</td>\n",
       "      <td>35.277980</td>\n",
       "      <td>6.857112</td>\n",
       "      <td>17.638990</td>\n",
       "      <td>3.428556</td>\n",
       "      <td>2</td>\n",
       "      <td>0</td>\n",
       "      <td>2</td>\n",
       "      <td>2</td>\n",
       "      <td>0.0</td>\n",
       "      <td>2</td>\n",
       "    </tr>\n",
       "    <tr>\n",
       "      <th>4</th>\n",
       "      <td>./1008719828/Task_1_1_4.json</td>\n",
       "      <td>98.397408</td>\n",
       "      <td>23.829007</td>\n",
       "      <td>49.198704</td>\n",
       "      <td>11.914503</td>\n",
       "      <td>2</td>\n",
       "      <td>0</td>\n",
       "      <td>2</td>\n",
       "      <td>2</td>\n",
       "      <td>0.0</td>\n",
       "      <td>2</td>\n",
       "    </tr>\n",
       "  </tbody>\n",
       "</table>\n",
       "</div>"
      ],
      "text/plain": [
       "                                      name  position_error  angle_error  \\\n",
       "0  ./1008719828/Task_1_1_10_secondary.json      108.944051     2.773462   \n",
       "1   ./1008719828/Task_1_1_1_secondary.json       22.564032    11.734916   \n",
       "2             ./1008719828/Task_1_1_2.json       44.057096    11.682402   \n",
       "3             ./1008719828/Task_1_1_3.json       35.277980     6.857112   \n",
       "4             ./1008719828/Task_1_1_4.json       98.397408    23.829007   \n",
       "\n",
       "   normalized_position_error  normalized_angle_error  \\\n",
       "0                  54.472025                1.386731   \n",
       "1                  11.282016                5.867458   \n",
       "2                  22.028548                5.841201   \n",
       "3                  17.638990                3.428556   \n",
       "4                  49.198704               11.914503   \n",
       "\n",
       "   num_aircrafts_for_normalization  number_of_missed_aircrafts  num_aircrafts  \\\n",
       "0                                2                           0              2   \n",
       "1                                2                           0              2   \n",
       "2                                2                           0              2   \n",
       "3                                2                           0              2   \n",
       "4                                2                           0              2   \n",
       "\n",
       "   not_missed_labels  Missed_Labels  labels  \n",
       "0                  2            0.0       2  \n",
       "1                  2            0.0       2  \n",
       "2                  2            0.0       2  \n",
       "3                  2            0.0       2  \n",
       "4                  2            0.0       2  "
      ]
     },
     "execution_count": 66,
     "metadata": {},
     "output_type": "execute_result"
    }
   ],
   "source": [
    "merged_df.head()"
   ]
  },
  {
   "cell_type": "markdown",
   "metadata": {},
   "source": [
    "Save results to a csv."
   ]
  },
  {
   "cell_type": "code",
   "execution_count": 67,
   "metadata": {},
   "outputs": [],
   "source": [
    "merged_df.to_csv(\"./situation_awareness_labels.csv\", index=False)"
   ]
  },
  {
   "cell_type": "markdown",
   "metadata": {},
   "source": [
    "Check if it has been saved correctly"
   ]
  },
  {
   "cell_type": "code",
   "execution_count": 2,
   "metadata": {},
   "outputs": [
    {
     "data": {
      "text/plain": [
       "(693, 11)"
      ]
     },
     "execution_count": 2,
     "metadata": {},
     "output_type": "execute_result"
    }
   ],
   "source": [
    "df_SA = pd.read_csv(\"situation_awareness_labels.csv\")\n",
    "df_SA.shape"
   ]
  },
  {
   "cell_type": "code",
   "execution_count": 3,
   "metadata": {},
   "outputs": [],
   "source": [
    "X = df_SA[['normalized_position_error', \"normalized_angle_error\"]].to_numpy()"
   ]
  },
  {
   "cell_type": "code",
   "execution_count": 4,
   "metadata": {},
   "outputs": [],
   "source": [
    "Y = df_SA['labels'].to_numpy()"
   ]
  },
  {
   "cell_type": "code",
   "execution_count": 5,
   "metadata": {},
   "outputs": [
    {
     "data": {
      "text/plain": [
       "<matplotlib.collections.PathCollection at 0x7fe6a82eacf0>"
      ]
     },
     "execution_count": 5,
     "metadata": {},
     "output_type": "execute_result"
    },
    {
     "data": {
      "image/png": "[encoded data removed]",
      "text/plain": [
       "<Figure size 640x480 with 1 Axes>"
      ]
     },
     "metadata": {},
     "output_type": "display_data"
    }
   ],
   "source": [
    "plt.scatter(X[:, 0], X[:, 1], c = Y, s = 0.8)"
   ]
  },
  {
   "cell_type": "code",
   "execution_count": 6,
   "metadata": {},
   "outputs": [
    {
     "data": {
      "text/plain": [
       "labels\n",
       "2    355\n",
       "1    193\n",
       "0    145\n",
       "Name: count, dtype: int64"
      ]
     },
     "execution_count": 6,
     "metadata": {},
     "output_type": "execute_result"
    }
   ],
   "source": [
    "df_SA[\"labels\"].value_counts()"
   ]
  }
 ],
 "metadata": {
  "kernelspec": {
   "display_name": "js_resnet3d",
   "language": "python",
   "name": "python3"
  },
  "language_info": {
   "codemirror_mode": {
    "name": "ipython",
    "version": 3
   },
   "file_extension": ".py",
   "mimetype": "text/x-python",
   "name": "python",
   "nbconvert_exporter": "python",
   "pygments_lexer": "ipython3",
   "version": "3.12.2"
  }
 },
 "nbformat": 4,
 "nbformat_minor": 2
}
